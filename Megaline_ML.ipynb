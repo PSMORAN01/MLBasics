{
 "cells": [
  {
   "cell_type": "code",
   "execution_count": 1,
   "id": "36a69e1f",
   "metadata": {},
   "outputs": [],
   "source": [
    "import numpy as np\n",
    "import pandas as pd\n",
    "import matplotlib.pyplot as plt\n",
    "from sklearn.model_selection import train_test_split\n",
    "from sklearn.tree import DecisionTreeClassifier\n",
    "from sklearn.ensemble import RandomForestClassifier\n",
    "from sklearn.metrics import accuracy_score,classification_report"
   ]
  },
  {
   "cell_type": "code",
   "execution_count": 2,
   "id": "b235a589",
   "metadata": {},
   "outputs": [],
   "source": [
    "df = pd.read_csv('users_behavior.csv')"
   ]
  },
  {
   "cell_type": "code",
   "execution_count": 3,
   "id": "f33e0f4d",
   "metadata": {},
   "outputs": [
    {
     "name": "stdout",
     "output_type": "stream",
     "text": [
      "   calls  minutes  messages   mb_used  is_ultra\n",
      "0   40.0   311.90      83.0  19915.42         0\n",
      "1   85.0   516.75      56.0  22696.96         0\n",
      "2   77.0   467.66      86.0  21060.45         0\n",
      "3  106.0   745.53      81.0   8437.39         1\n",
      "4   66.0   418.74       1.0  14502.75         0\n",
      "<class 'pandas.core.frame.DataFrame'>\n",
      "RangeIndex: 3214 entries, 0 to 3213\n",
      "Data columns (total 5 columns):\n",
      " #   Column    Non-Null Count  Dtype  \n",
      "---  ------    --------------  -----  \n",
      " 0   calls     3214 non-null   float64\n",
      " 1   minutes   3214 non-null   float64\n",
      " 2   messages  3214 non-null   float64\n",
      " 3   mb_used   3214 non-null   float64\n",
      " 4   is_ultra  3214 non-null   int64  \n",
      "dtypes: float64(4), int64(1)\n",
      "memory usage: 125.7 KB\n",
      "None\n",
      "             calls      minutes     messages       mb_used     is_ultra\n",
      "count  3214.000000  3214.000000  3214.000000   3214.000000  3214.000000\n",
      "mean     63.038892   438.208787    38.281269  17207.673836     0.306472\n",
      "std      33.236368   234.569872    36.148326   7570.968246     0.461100\n",
      "min       0.000000     0.000000     0.000000      0.000000     0.000000\n",
      "25%      40.000000   274.575000     9.000000  12491.902500     0.000000\n",
      "50%      62.000000   430.600000    30.000000  16943.235000     0.000000\n",
      "75%      82.000000   571.927500    57.000000  21424.700000     1.000000\n",
      "max     244.000000  1632.060000   224.000000  49745.730000     1.000000\n",
      "calls       0\n",
      "minutes     0\n",
      "messages    0\n",
      "mb_used     0\n",
      "is_ultra    0\n",
      "dtype: int64\n",
      "is_ultra\n",
      "0    2229\n",
      "1     985\n",
      "Name: count, dtype: int64\n"
     ]
    }
   ],
   "source": [
    "print(df.head())\n",
    "print(df.info())\n",
    "print(df.describe())\n",
    "print(df.isna().sum())\n",
    "print(df['is_ultra'].value_counts())"
   ]
  },
  {
   "cell_type": "code",
   "execution_count": 4,
   "id": "9574ad88",
   "metadata": {},
   "outputs": [
    {
     "data": {
      "image/png": "[encoded data removed]",
      "text/plain": [
       "<Figure size 640x480 with 1 Axes>"
      ]
     },
     "metadata": {},
     "output_type": "display_data"
    }
   ],
   "source": [
    "df['is_ultra'].value_counts().plot(kind='bar')\n",
    "plt.title('Distribución de la variable objetivo')\n",
    "plt.show()"
   ]
  },
  {
   "cell_type": "markdown",
   "id": "c88fd695",
   "metadata": {},
   "source": [
    "Observamos que no debemos hacer procesamiento de datos, sin embargo, al final denotamos que tenemos un data set desbalanceado, con un balance aproximado de (70-30)"
   ]
  },
  {
   "cell_type": "markdown",
   "id": "ac693889",
   "metadata": {},
   "source": [
    "Ahora proceddemos a dividir nuestras caracteristicas y el target"
   ]
  },
  {
   "cell_type": "code",
   "execution_count": 5,
   "id": "9f46a39a",
   "metadata": {},
   "outputs": [],
   "source": [
    "x = df[['calls', 'minutes', 'messages', 'mb_used']]\n",
    "y = df['is_ultra']"
   ]
  },
  {
   "cell_type": "markdown",
   "id": "128e9b8f",
   "metadata": {},
   "source": [
    "Segmentamos los datos para Train y Test y este estara dividido (70-30)"
   ]
  },
  {
   "cell_type": "code",
   "execution_count": 6,
   "id": "cda145e0",
   "metadata": {},
   "outputs": [],
   "source": [
    "X_train, X_test, y_train, y_test = train_test_split(x, y, test_size=0.3, random_state=42)"
   ]
  },
  {
   "cell_type": "markdown",
   "id": "1f4cc109",
   "metadata": {},
   "source": [
    "Se que decision tree no es bueno para datos desbalanceaods, sin embargo quiero realizarlo como prueba"
   ]
  },
  {
   "cell_type": "code",
   "execution_count": 7,
   "id": "cfa5129b",
   "metadata": {},
   "outputs": [
    {
     "name": "stdout",
     "output_type": "stream",
     "text": [
      "🌳 Precisión del modelo: 0.72\n"
     ]
    }
   ],
   "source": [
    "modelo = DecisionTreeClassifier(max_depth=50, random_state=42) \n",
    "modelo.fit(X_train, y_train)\n",
    "\n",
    "# Evaluamos el modelo\n",
    "y_pred = modelo.predict(X_test)\n",
    "accuracy = accuracy_score(y_test, y_pred)\n",
    "print(f\"🌳 Precisión del modelo: {accuracy:.2f}\")"
   ]
  },
  {
   "cell_type": "markdown",
   "id": "6c01c43d",
   "metadata": {},
   "source": [
    "Ahora is utilizaremos random forest que es mejor para datos desbalanceados"
   ]
  },
  {
   "cell_type": "code",
   "execution_count": 8,
   "id": "4314a8f3",
   "metadata": {},
   "outputs": [],
   "source": [
    "modelo_class = RandomForestClassifier(n_estimators=100, random_state=42)\n",
    "modelo_class.fit(X_train, y_train)\n",
    "y_pred = modelo_class.predict(X_test)"
   ]
  },
  {
   "cell_type": "code",
   "execution_count": 9,
   "id": "ff166040",
   "metadata": {},
   "outputs": [
    {
     "name": "stdout",
     "output_type": "stream",
     "text": [
      "🔵 Precisión del modelo de Clasificación: 0.80\n"
     ]
    }
   ],
   "source": [
    "accuracy = accuracy_score(y_test, y_pred)\n",
    "print(f\"🔵 Precisión del modelo de Clasificación: {accuracy:.2f}\")"
   ]
  },
  {
   "cell_type": "code",
   "execution_count": 10,
   "id": "8323d6fe",
   "metadata": {},
   "outputs": [
    {
     "name": "stdout",
     "output_type": "stream",
     "text": [
      "📊 Reporte de clasificación:\n",
      "              precision    recall  f1-score   support\n",
      "\n",
      "           0       0.81      0.92      0.87       660\n",
      "           1       0.77      0.54      0.63       305\n",
      "\n",
      "    accuracy                           0.80       965\n",
      "   macro avg       0.79      0.73      0.75       965\n",
      "weighted avg       0.80      0.80      0.79       965\n",
      "\n"
     ]
    }
   ],
   "source": [
    "print(\"📊 Reporte de clasificación:\")\n",
    "print(classification_report(y_test, y_pred))"
   ]
  },
  {
   "cell_type": "markdown",
   "id": "220c2cd7",
   "metadata": {},
   "source": [
    "Al obtener un f1-score weighted que es el mas real en situaciones de datos desbalanceados y este al ser mayor a 0.75 Pienso que tenemos un buen modelo."
   ]
  }
 ],
 "metadata": {
  "kernelspec": {
   "display_name": "s8_sql",
   "language": "python",
   "name": "s8_sql"
  },
  "language_info": {
   "codemirror_mode": {
    "name": "ipython",
    "version": 3
   },
   "file_extension": ".py",
   "mimetype": "text/x-python",
   "name": "python",
   "nbconvert_exporter": "python",
   "pygments_lexer": "ipython3",
   "version": "3.10.0"
  }
 },
 "nbformat": 4,
 "nbformat_minor": 5
}
